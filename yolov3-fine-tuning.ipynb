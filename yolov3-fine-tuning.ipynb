{
  "cells": [
    {
      "cell_type": "code",
      "source": [
        "!ln -s \"/content/drive/MyDrive/yolo-data\" \"/content/data\""
      ],
      "metadata": {
        "id": "H4fawIZMgDnT"
      },
      "execution_count": 1,
      "outputs": []
    },
    {
      "cell_type": "code",
      "source": [
        "%cd /content/data\n",
        "!git clone https://github.com/artynet/darknet-alexeyAB.git darknet"
      ],
      "metadata": {
        "id": "v-AonaTLfNRP"
      },
      "execution_count": null,
      "outputs": []
    },
    {
      "cell_type": "code",
      "execution_count": null,
      "metadata": {
        "id": "QcjPFRQGPDGZ"
      },
      "outputs": [],
      "source": [
        "%cd /content/data/darknet\n",
        "!git reset --hard\n",
        "!sed -in 's/GPU=0/GPU=1/g' Makefile\n",
        "!sed -in 's/OPENCV=0/OPENCV=1/g' Makefile\n",
        "!sed -in 's/pkg-config --libs opencv/pkg-config --libs opencv4/g' Makefile\n",
        "!sed -in 's/pkg-config --cflags opencv/pkg-config --cflags opencv4/g' Makefile\n",
        "!sed -in 's/-gencode arch=compute_30,code=sm_30/-gencode arch=compute_50,code=sm_50/g' Makefile\n",
        "!sed -in 's/if (i >= (iter_save + 1000) || i % 1000 == 0)/if (i % 100 == 0)/g' src/detector.c\n",
        "!cat Makefile | grep \"^GPU=\"\n",
        "!cat Makefile | grep \"^OPENCV=\"\n",
        "!head -n 300 src/detector.c | tail -10\n"
      ]
    },
    {
      "cell_type": "code",
      "source": [
        "%cd /content/data/darknet\n",
        "!make"
      ],
      "metadata": {
        "id": "ESd-Z8VogYal"
      },
      "execution_count": null,
      "outputs": []
    },
    {
      "cell_type": "code",
      "execution_count": null,
      "metadata": {
        "id": "7LimvyyrSGna"
      },
      "outputs": [],
      "source": [
        "%cd /content/data/darknet\n",
        "!chmod +x darknet\n",
        "!./darknet detector train /content/data/obj.data /content/data/yolov3-tiny.cfg /content/data/yolov3-tiny.conv.15 -dont_show -ext_output -map 2>&1 | tee log.txt"
      ]
    },
    {
      "cell_type": "code",
      "source": [
        "!cp /content/data/darknet/backup/yolov3-tiny_best.weights /content/data/model/yolov3-tiny.weights"
      ],
      "metadata": {
        "id": "YEl7nLK4JPCc"
      },
      "execution_count": 23,
      "outputs": []
    }
  ],
  "metadata": {
    "accelerator": "GPU",
    "colab": {
      "provenance": []
    },
    "gpuClass": "standard",
    "kernelspec": {
      "display_name": "Python 3",
      "name": "python3"
    },
    "language_info": {
      "name": "python"
    }
  },
  "nbformat": 4,
  "nbformat_minor": 0
}